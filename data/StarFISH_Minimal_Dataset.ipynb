{
 "cells": [
  {
   "cell_type": "code",
   "execution_count": 1,
   "id": "8fdb7d24",
   "metadata": {},
   "outputs": [],
   "source": [
    "import os\n",
    "\n",
    "import tifffile as tiff\n",
    "import starfish\n",
    "from starfish.types import Axes"
   ]
  },
  {
   "cell_type": "code",
   "execution_count": 8,
   "id": "1dd70476",
   "metadata": {},
   "outputs": [],
   "source": [
    "def download_data(\n",
    "    outdir: str,\n",
    "    fov_idx: str = 'fov_001'\n",
    "):\n",
    "    # create output directory:\n",
    "    try:\n",
    "        os.mkdir(outdir)\n",
    "    except:\n",
    "        pass\n",
    "    # Load experiment from bucket:\n",
    "    exp = starfish.Experiment.from_json(\n",
    "        \"https://d2nhj9g34unfro.cloudfront.net/browse/formatted/20180926/iss_breast/experiment.json\")\n",
    "    # Select fov of interest:\n",
    "    fov = exp[fov_idx]\n",
    "    # Iterate over four rounds and four channels:\n",
    "    image_stack = fov.get_image(\"primary\")\n",
    "    for r in range(4):\n",
    "        for ch in range(4):\n",
    "            img = image_stack.sel({Axes.ROUND: r, Axes.CH: ch}).xarray.squeeze()\n",
    "            tiff.imwrite(os.path.join(outdir, f\"r{r}_ch{ch}.tif\"), img)\n",
    "    \n",
    "    # Write nuclei and anchor dots:\n",
    "    nuclei_stack = fov.get_image(\"nuclei\").xarray.squeeze()\n",
    "    tiff.imwrite(os.path.join(outdir, \"nuclei.tif\"), nuclei_stack)\n",
    "    \n",
    "    dots_stack = fov.get_image(\"dots\").xarray.squeeze()\n",
    "    tiff.imwrite(os.path.join(outdir, \"dots.tif\"), dots_stack)\n",
    "    \n",
    "    # Save codebook:\n",
    "    exp.codebook.to_json(os.path.join(outdir, 'codebook_minimaldataset.json'))"
   ]
  },
  {
   "cell_type": "code",
   "execution_count": 9,
   "id": "e55b688d",
   "metadata": {},
   "outputs": [
    {
     "name": "stderr",
     "output_type": "stream",
     "text": [
      "100%|██████████| 16/16 [00:00<00:00, 147.44it/s]\n",
      "100%|██████████| 1/1 [00:00<00:00, 50.65it/s]\n",
      "100%|██████████| 1/1 [00:00<00:00, 60.99it/s]\n"
     ]
    }
   ],
   "source": [
    "download_data('/scratch/segonzal/MinimalData')"
   ]
  },
  {
   "cell_type": "code",
   "execution_count": null,
   "id": "2ba216f5",
   "metadata": {},
   "outputs": [],
   "source": []
  }
 ],
 "metadata": {
  "kernelspec": {
   "display_name": "Python [conda env:issdecoder] *",
   "language": "python",
   "name": "conda-env-issdecoder-py"
  },
  "language_info": {
   "codemirror_mode": {
    "name": "ipython",
    "version": 3
   },
   "file_extension": ".py",
   "mimetype": "text/x-python",
   "name": "python",
   "nbconvert_exporter": "python",
   "pygments_lexer": "ipython3",
   "version": "3.7.9"
  }
 },
 "nbformat": 4,
 "nbformat_minor": 5
}
