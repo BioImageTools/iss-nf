{
 "cells": [
  {
   "cell_type": "code",
   "execution_count": 8,
   "id": "8fdb7d24",
   "metadata": {},
   "outputs": [],
   "source": [
    "import os\n",
    "\n",
    "import tifffile as tiff\n",
    "import starfish\n",
    "from starfish.types import Axes"
   ]
  },
  {
   "cell_type": "code",
   "execution_count": 13,
   "id": "1dd70476",
   "metadata": {},
   "outputs": [],
   "source": [
    "def download_data(\n",
    "    outdir: str,\n",
    "    fov_idx: str = 'fov_001',\n",
    "    x_slice: tuple = (0, 512),\n",
    "    y_slice: tuple = (0, 512)\n",
    "):\n",
    "    x_range, y_range = slice(x_slice[0], x_slice[1]), slice(y_slice[0], y_slice[1])\n",
    "    # create output directory:\n",
    "    try:\n",
    "        os.mkdir(outdir)\n",
    "    except:\n",
    "        pass\n",
    "    # Load experiment from bucket:\n",
    "    exp = starfish.Experiment.from_json(\n",
    "        \"https://d2nhj9g34unfro.cloudfront.net/browse/formatted/20180926/iss_breast/experiment.json\")\n",
    "    # Select fov of interest:\n",
    "    fov = exp[fov_idx]\n",
    "    \n",
    "    # Write nuclei and anchor dots:\n",
    "    nuclei_stack = fov.get_image(\"nuclei\", x=x_range, y=y_range).xarray.squeeze()\n",
    "    tiff.imwrite(os.path.join(outdir, \"anchor_nuclei.tif\"), nuclei_stack)\n",
    "    \n",
    "    dots_stack = fov.get_image(\"dots\", x=x_range, y=y_range).xarray.squeeze()\n",
    "    tiff.imwrite(os.path.join(outdir, \"anchor_dots.tif\"), dots_stack)\n",
    "    \n",
    "    # Iterate over four rounds and four channels:\n",
    "    image_stack = fov.get_image(\"primary\", x=x_range,y=y_range)\n",
    "    for r in range(4):\n",
    "        # Create 'fake' anchor_nuclei data:\n",
    "        tiff.imwrite(os.path.join(outdir, f\"r{r}_DAPI.tif\"), nuclei_stack)\n",
    "        for ch in range(4):\n",
    "            img = image_stack.sel({Axes.ROUND: r, Axes.CH: ch}).xarray.squeeze()\n",
    "            tiff.imwrite(os.path.join(outdir, f\"r{r}_ch{ch}.tif\"), img)"
   ]
  },
  {
   "cell_type": "code",
   "execution_count": 14,
   "id": "e55b688d",
   "metadata": {},
   "outputs": [
    {
     "name": "stderr",
     "output_type": "stream",
     "text": [
      "100%|██████████| 1/1 [00:00<00:00, 48.53it/s]\n",
      "100%|██████████| 1/1 [00:00<00:00, 59.70it/s]\n",
      "100%|██████████| 16/16 [00:00<00:00, 259.00it/s]\n"
     ]
    }
   ],
   "source": [
    "download_data('/scratch/segonzal/MinimalData')"
   ]
  },
  {
   "cell_type": "code",
   "execution_count": null,
   "id": "f27556ff",
   "metadata": {},
   "outputs": [],
   "source": []
  }
 ],
 "metadata": {
  "kernelspec": {
   "display_name": "Python 3",
   "language": "python",
   "name": "python3"
  },
  "language_info": {
   "codemirror_mode": {
    "name": "ipython",
    "version": 3
   },
   "file_extension": ".py",
   "mimetype": "text/x-python",
   "name": "python",
   "nbconvert_exporter": "python",
   "pygments_lexer": "ipython3",
   "version": "3.7.9"
  }
 },
 "nbformat": 4,
 "nbformat_minor": 5
}
